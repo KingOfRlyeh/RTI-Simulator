import numpy as np
import matplotlib
import matplotlib.pyplot as plt
from matplotlib.animation import FuncAnimation
from matplotlib.widgets import Button

# Use the TkAgg backend
matplotlib.use('TkAgg')

# Parameters
Nx, Ny = 128, 128  # Grid size
dx, dy = 1.0, 1.0  # Grid spacing
dt = 0.01  # Time step
time_steps = 200

# Initial Fields
phi = np.zeros((Ny, Nx))
phi[:Ny // 2, :] = 1  # Heavy fluid on top, light fluid on bottom
phi[
u = np.zeros((Ny, Nx))
v = np.zeros((Ny, Nx))
omega = np.zeros((Ny, Nx))
rho_light = 1.0
rho_heavy = 2.0
nu = 0.01  # Viscosity
g = 9.81  # Gravitational acceleration


# Advection of the level set field
def advect_phi(phi, u, v, dx, dy, dt):
    cfl_dt = min(dx / (np.abs(u).max() + 1e-6), dy / (np.abs(v).max() + 1e-6))
    dt = min(dt, cfl_dt)
    dphi_dx = np.gradient(phi, dx, axis=1)
    dphi_dy = np.gradient(phi, dy, axis=0)
    phi_new = phi - dt * (u * dphi_dx + v * dphi_dy)
    return phi_new


# Reinitialize phi to maintain signed distance property
def reinitialize_phi(phi, dx, dy, tau=0.1, iterations=50):
    epsilon = 1e-6
    for _ in range(iterations):
        dphi_dx = (np.roll(phi, -1, axis=1) - np.roll(phi, 1, axis=1)) / (2 * dx)
        dphi_dy = (np.roll(phi, -1, axis=0) - np.roll(phi, 1, axis=0)) / (2 * dy)
        grad_phi = np.sqrt(dphi_dx**2 + dphi_dy**2 + epsilon**2)
        sign_phi = phi / np.sqrt(phi**2 + epsilon**2)
        phi += tau * sign_phi * (1 - grad_phi)
    return phi


# Regularized Heaviside step function
def heaviside(phi, epsilon=1e-6):
    return 0.5 * (1 + phi / np.sqrt(phi**2 + epsilon**2))


# Update density field based on level set field
def update_density(phi, rho_light, rho_heavy):
    H = heaviside(phi)
    rho = rho_light + (rho_heavy - rho_light) * H
    return rho


# Update vorticity using the vorticity equation
def update_vorticity(omega, u, v, rho, dx, dy, nu, g, dt):
    d_omega_dx = (np.roll(omega, -1, axis=1) - np.roll(omega, 1, axis=1)) / (2 * dx)
    d_omega_dy = (np.roll(omega, -1, axis=0) - np.roll(omega, 1, axis=0)) / (2 * dy)
    d_rho_dx = (np.roll(rho, -1, axis=1) - np.roll(rho, 1, axis=1)) / (2 * dx)
    laplacian_omega = (
        (np.roll(omega, -1, axis=1) - 2 * omega + np.roll(omega, 1, axis=1)) / dx**2 +
        (np.roll(omega, -1, axis=0) - 2 * omega + np.roll(omega, 1, axis=0)) / dy**2
    )
    advection = u * d_omega_dx + v * d_omega_dy
    diffusion = nu * laplacian_omega
    baroclinic = g * d_rho_dx / np.maximum(rho, 1e-6)
    omega_new = omega + dt * (-advection + diffusion + baroclinic)
    return omega_new


# Solve Poisson equation for stream function using SOR
def solve_poisson_sor(omega, dx, dy, tol=1e-3, max_iter=5000, omega_relax=1.5):
    Ny, Nx = omega.shape
    psi = np.zeros_like(omega)
    for iteration in range(max_iter):
        psi_old = psi.copy()
        for i in range(1, Ny - 1):
            for j in range(1, Nx - 1):
                psi[i, j] = (1 - omega_relax) * psi[i, j] + omega_relax / (2 / dx**2 + 2 / dy**2) * (
                    (psi[i + 1, j] + psi[i - 1, j]) / dx**2 +
                    (psi[i, j + 1] + psi[i, j - 1]) / dy**2 - omega[i, j]
                )
        psi[0, :] = psi[-1, :] = psi[:, 0] = psi[:, -1] = 0
        if np.linalg.norm(psi - psi_old, ord=np.inf) < tol:
            break
    return psi


# Update velocities based on the stream function
def update_velocities(psi, dx, dy):
    u = np.gradient(psi, axis=1) / dy
    v = -np.gradient(psi, axis=0) / dx
    return u, v


# Initialize plot
fig, ax = plt.subplots(figsize=(6, 6))
plt.subplots_adjust(bottom=0.2)
im = ax.imshow(phi, extent=[0, Nx * dx, 0, Ny * dy], origin="lower", cmap="coolwarm", vmin=0, vmax=1)
ax.set_title("Rayleigh-Taylor Instability")
ax.set_xlabel("x")
ax.set_ylabel("y")

# Animation state variables
anim_running = True
frame_index = 0


# Update function for animation
def update(frame):
    global phi, u, v, omega
    global frame_index
    phi = advect_phi(phi, u, v, dx, dy, dt)
    phi = reinitialize_phi(phi, dx, dy)
    rho = update_density(phi, rho_light, rho_heavy)
    omega = update_vorticity(omega, u, v, rho, dx, dy, nu, g, dt)
    psi = solve_poisson_sor(omega, dx, dy)
    u, v = update_velocities(psi, dx, dy)
    im.set_array(phi)
    frame_index += 1
    return [im]


# Button callbacks
def pause(event):
    global anim_running
    if anim_running:
        ani.event_source.stop()
        anim_running = False
    else:
        ani.event_source.start()
        anim_running = True


def fast_forward(event):
    global frame_index
    if not anim_running:
        for _ in range(5):
            update(frame_index)


def rewind(event):
    global frame_index
    if not anim_running:
        frame_index = max(0, frame_index - 5)
        update(frame_index)


def reset(event):
    global phi, u, v, omega, frame_index
    phi = np.zeros((Ny, Nx))
    phi[:Ny // 2, :] = 1
    u = np.zeros((Ny, Nx))
    v = np.zeros((Ny, Nx))
    omega = np.zeros((Ny, Nx))
    frame_index = 0
    im.set_array(phi)
    fig.canvas.draw_idle()


# Add buttons
ax_pause = plt.axes([0.1, 0.05, 0.15, 0.075])
ax_fast_forward = plt.axes([0.3, 0.05, 0.15, 0.075])
ax_rewind = plt.axes([0.5, 0.05, 0.15, 0.075])
ax_reset = plt.axes([0.7, 0.05, 0.15, 0.075])

btn_pause = Button(ax_pause, "Pause/Resume")
btn_fast_forward = Button(ax_fast_forward, "Fast Forward")
btn_rewind = Button(ax_rewind, "Rewind")
btn_reset = Button(ax_reset, "Reset")

btn_pause.on_clicked(pause)
btn_fast_forward.on_clicked(fast_forward)
btn_rewind.on_clicked(rewind)
btn_reset.on_clicked(reset)

# Start animation
ani = FuncAnimation(fig, update, frames=time_steps, interval=50, blit=True)
plt.show()

