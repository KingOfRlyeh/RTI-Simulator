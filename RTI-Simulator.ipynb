import numpy as np
import matplotlib.pyplot as plt
from matplotlib.animation import FuncAnimation
plt.switch_backend("Qt5Agg")

# --- Advection Function ---
def advect_phi(phi, u, v, dx, dy, dt):
    cfl_dt = min(dx / (np.abs(u).max() + 1e-6), dy / (np.abs(v).max() + 1e-6))
    dt = min(dt, cfl_dt)
    dphi_dx = np.gradient(phi, dx, axis=1)
    dphi_dy = np.gradient(phi, dy, axis=0)
    phi_new = phi - dt * (u * dphi_dx + v * dphi_dy)
    return phi_new

# --- Reinitialization Function ---
def reinitialize_phi(phi, dx, dy, tau=0.1, iterations=50):
    epsilon = 1e-6
    for _ in range(iterations):
        dphi_dx = (np.roll(phi, -1, axis=1) - np.roll(phi, 1, axis=1)) / (2 * dx)
        dphi_dy = (np.roll(phi, -1, axis=0) - np.roll(phi, 1, axis=0)) / (2 * dy)
        grad_phi = np.sqrt(dphi_dx**2 + dphi_dy**2 + epsilon**2)
        sign_phi = phi / np.sqrt(phi**2 + epsilon**2)
        phi += tau * sign_phi * (1 - grad_phi)
    return phi

# --- Density Update Function ---
def heaviside(phi, epsilon=1e-6):
    return 0.5 * (1 + phi / np.sqrt(phi**2 + epsilon**2))

def update_density(phi, rho_light, rho_heavy):
    H = heaviside(phi)
    return rho_light + (rho_heavy - rho_light) * H

# --- Vorticity Update ---
def update_vorticity(omega, u, v, rho, dx, dy, nu, g, dt):
    d_omega_dx = (np.roll(omega, -1, axis=1) - np.roll(omega, 1, axis=1)) / (2 * dx)
    d_omega_dy = (np.roll(omega, -1, axis=0) - np.roll(omega, 1, axis=0)) / (2 * dy)
    d_rho_dx = (np.roll(rho, -1, axis=1) - np.roll(rho, 1, axis=1)) / (2 * dx)
    laplacian_omega = (
        (np.roll(omega, -1, axis=1) - 2 * omega + np.roll(omega, 1, axis=1)) / dx**2 +
        (np.roll(omega, -1, axis=0) - 2 * omega + np.roll(omega, 1, axis=0)) / dy**2
    )
    advection = u * d_omega_dx + v * d_omega_dy
    diffusion = nu * laplacian_omega
    baroclinic = g * d_rho_dx / np.maximum(rho, 1e-6)
    omega_new = omega + dt * (-advection + diffusion + baroclinic)
    return omega_new

# --- Poisson Solver ---
def solve_poisson_sor(omega, dx, dy, tol=1e-3, max_iter=5000, omega_relax=1.5):
    Ny, Nx = omega.shape
    psi = np.zeros_like(omega)
    for iteration in range(max_iter):
        psi_old = psi.copy()
        for i in range(1, Ny-1):
            for j in range(1, Nx-1):
                psi[i, j] = (1 - omega_relax) * psi[i, j] + omega_relax / (2 / dx**2 + 2 / dy**2) * (
                    (psi[i+1, j] + psi[i-1, j]) / dx**2 +
                    (psi[i, j+1] + psi[i, j-1]) / dy**2 - omega[i, j]
                )
        psi[0, :] = psi[-1, :] = psi[:, 0] = psi[:, -1] = 0
        if np.linalg.norm(psi - psi_old, ord=np.inf) < tol:
            break
    return psi

# --- Velocity Update ---
def update_velocities(psi, dx, dy):
    u = np.gradient(psi, axis=1) / dy
    v = -np.gradient(psi, axis=0) / dx
    return u, v

# --- Simulation Parameters ---
Nx, Ny = 40, 256
dx, dy = 1.0, 1.0
dt = 0.01
time_steps = 100
nu = 20.0
g = 9.81
rho_light = 1.0
rho_heavy = 2.0

# --- Initial Conditions ---
x = np.arange(Nx)
y_perturb = Ny // 2 + 10 * np.cos(2 * np.pi * x / 20)
phi = np.zeros((Ny, Nx))
for i in range(Nx):
    phi[:int(y_perturb[i]), i] = 1
u = np.zeros((Ny, Nx))
v = np.zeros((Ny, Nx))
omega = np.zeros((Ny, Nx))
rho = update_density(phi, rho_light, rho_heavy)

# --- Visualization Setup ---
fig, ax = plt.subplots(figsize=(6, 6))
im = ax.imshow(phi, extent=[0, Nx * dx, 0, Ny * dy], origin="lower", cmap="coolwarm", vmin=0, vmax=1)
ax.set_title("Rayleigh-Taylor Instability")
ax.set_xlabel("x")
ax.set_ylabel("y")

# --- Animation Function ---
def animate(frame):
    global phi, u, v, omega, rho
    phi = advect_phi(phi, u, v, dx, dy, dt)
    phi = reinitialize_phi(phi, dx, dy)
    rho = update_density(phi, rho_light, rho_heavy)
    omega = update_vorticity(omega, u, v, rho, dx, dy, nu, g, dt)
    psi = solve_poisson_sor(omega, dx, dy)
    u, v = update_velocities(psi, dx, dy)
    im.set_array(phi)
    return [im]

anim = FuncAnimation(fig, animate, frames=time_steps, interval=50, blit=True)
plt.show()
