## Problem Description and Approach

Our goal is to model and simulate Rayleigh-Taylor instability numerically, allowing us to study the evolution of the interface and the fluid dynamics involved. To achieve this, we employ a combination of fluid dynamics equations and numerical methods.

## Mathematical Formulation

The evolution of the system is governed by several key equations:

### 1. Navier-Stokes Equations

These describe the motion of the fluid, incorporating viscosity, density, and external forces like gravity. The incompressible form of the Navier-Stokes equation is:
$$
\frac{\partial \vec{v}}{\partial t} + (\vec{v} \cdot \nabla)\vec{v} = -\frac{1}{\rho}\nabla P + \nu \nabla^2 \vec{v} + \vec{g}
$$
where $\vec{v} = \langle u, v \rangle$ is the velocity field, $\rho$ is the fluid density, $\nu$ is the kinematic viscosity, and $\vec{g}$ is the gravitational acceleration.

### 2. Continuity Equation

This ensures the incompressibility of the fluid:
$$
\nabla \cdot \vec{v} = 0
$$

### 3. Level Set Equation

To track the evolving interface between the two fluids, we use a scalar field $\phi(x, y, t)$ where the interface is located at $\phi = 0$. The level set method is used to evolve the interface:
$$
\frac{\partial \phi}{\partial t} + \vec{v} \cdot \nabla \phi = 0
$$

### 4. Density Field

The density of each fluid is determined by the level set function:
$$
\rho(x, y, t) = \rho_{\text{light}} + (\rho_{\text{heavy}} - \rho_{\text{light}}) H(\phi(x, y, t))
$$
where $H(\phi)$ is the Heaviside step function, which is -1 when $\phi < 0$, 0 when $\phi = 0$, and 1 when $\phi > 0$.

### 5. Vorticity Equation

The vorticity $\omega$ of the fluid flow, which represents the rotational component of the velocity field, is calculated by:
$$
\frac{\partial \omega}{\partial t} + \vec{v} \cdot \nabla \omega = \nu \nabla^2 \omega + \frac{g}{\rho} \frac{\partial \rho}{\partial y}
$$
This equation governs the evolution of vorticity in the fluid.

### 6. Velocity Recovery

The velocity field $\vec{v}$ is recovered from the vorticity $\omega$ by solving the Poisson equation:
$$
\nabla^2 \psi = -\omega
$$
Then, the velocity components are derived from the stream function $\psi$:
$$
u = \frac{\partial \psi}{\partial y}, \quad v = -\frac{\partial \psi}{\partial x}
$$

## Numerical Methods

### 1. Grid Initialization

We begin by creating a uniform 2D grid $(x, y)$, representing the simulation space. The density field $\rho(x, y)$ is initialized with a smooth transition between the two fluids using a hyperbolic tangent function:
$$
\rho(x, y, 0) = \rho_{\text{light}} + (\rho_{\text{heavy}} - \rho_{\text{light}}) \frac{1}{2} \left( 1 + \tanh\left( y - \frac{y_{\text{interface}}}{\delta} \right) \right)
$$

### 2. Level Set Function Initialization

The level set field $\phi(x, y)$ is initialized to represent the interface:
$$
\phi(x, y) = y - y_{\text{interface}}
$$
where $y_{\text{interface}}$ is the initial position of the fluid interface.

### 3. Advection of the Level Set Function

To update the position of the interface over time, the level set function $\phi$ is evolved using the velocity field:
$$
\phi^{n+1}_{i,j} = \phi^{n}_{i,j} - \Delta t \left( u_{i,j} \frac{\partial \phi}{\partial x} + v_{i,j} \frac{\partial \phi}{\partial y} \right)
$$

### 4. Reinitialization of the Level Set Function

After each time step, we reinitialize the level set function to ensure it remains a signed distance function:
$$
\frac{\partial \phi}{\partial \tau} = \text{sign}(\phi_0)(1 - |\nabla \phi|)
$$
This step maintains the stability and accuracy of the interface representation.

### 5. Density Update

The density field $\rho$ is updated by applying the Heaviside function $H(\phi)$, which maps regions above the interface to $\rho_{\text{light}}$ and regions below the interface to $\rho_{\text{heavy}}$.

### 6. Vorticity Update

The vorticity equation is solved to update the vorticity field $\omega$, which describes the rotational motion of the fluid.

### 7. Poisson Equation for Velocity Recovery

The stream function $\psi$ is computed by solving the Poisson equation:
$$
\nabla^2 \psi = -\omega
$$
The velocity components $u$ and $v$ are then derived from $\psi\$.

### 8. Visualization

To visualize the simulation, we plot the zero-contour of the level set function $\phi$, which marks the interface between the two fluids. 
