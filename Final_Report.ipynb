{
 "cells": [
  {
   "cell_type": "markdown",
   "id": "34bed1e2-e9e7-41a8-a785-ba4df23d6010",
   "metadata": {},
   "source": [
    "# Rayleigh–Taylor Instability"
   ]
  },
  {
   "cell_type": "markdown",
   "id": "20581517-a2cd-466c-abac-d3fa0c1400dc",
   "metadata": {},
   "source": [
    "By: Jack B, Sahat J, and Riddhi C\\\n",
    "Last edited: _________"
   ]
  },
  {
   "cell_type": "markdown",
   "id": "cc4ced21-9ba8-4e55-80de-0932b2042024",
   "metadata": {},
   "source": [
    "## Introduction\n",
    "Rayleigh-Taylor instabilities (RTI) arise in fluid systems where a denser fluid overlays a less dense fluid. This configuration is inherently unstable, as the gravitational potential energy in the system can decrease if the denser fluid moves downward and the lighter fluid moves upward. If a perturbation is introduced at the interface between the fluids, the system responds by amplifying the disturbance, leading to the characteristic \"fingers\" or \"spikes\" of the denser fluid descending into the lighter fluid, accompanied by \"bubbles\" of the lighter fluid rising. \\\n",
    "\\\n",
    "RTI is a significant phenomenon because:\n",
    "- In astrophysics, it helps explain mixing processes during supernova explosions and stellar evolution.\n",
    "- In geophysics, it contributes to magma dynamics and mantle convection.\n",
    "- In engineering, it provides a challenge in processes such as inertial confinement fusion, where controlling these instabilities is crucial for achieving stable energy confinement.\n"
   ]
  },
  {
   "cell_type": "markdown",
   "id": "7af2449f-f93b-4418-a348-325ee1907d27",
   "metadata": {},
   "source": [
    "## Problem Description and Approach\n",
    "\n",
    "Our goal is to model and simulate Rayleigh-Taylor instability numerically, allowing us to study the evolution of the interface and the fluid dynamics involved. To achieve this, we employ a combination of fluid dynamics equations and numerical methods.\n",
    "\n",
    "## Mathematical Formulation\n",
    "\n",
    "The evolution of the system is governed by several key equations:\n",
    "\n",
    "### 1. Navier-Stokes Equations\n",
    "\n",
    "These describe the motion of the fluid, incorporating viscosity, density, and external forces like gravity. The incompressible form of the Navier-Stokes equation is:\n",
    "$$\n",
    "\\frac{\\partial \\vec{v}}{\\partial t} + (\\vec{v} \\cdot \\nabla)\\vec{v} = -\\frac{1}{\\rho}\\nabla P + \\nu \\nabla^2 \\vec{v} + \\vec{g}\n",
    "$$\n",
    "where $\\vec{v} = \\langle u, v \\rangle$ is the velocity field, $\\rho$ is the fluid density, $\\nu$ is the kinematic viscosity, and $\\vec{g}$ is the gravitational acceleration.\n",
    "\n",
    "### 2. Continuity Equation\n",
    "\n",
    "This ensures the incompressibility of the fluid:\n",
    "$$\n",
    "\\nabla \\cdot \\vec{v} = 0\n",
    "$$\n",
    "\n",
    "### 3. Level Set Equation\n",
    "\n",
    "To track the evolving interface between the two fluids, we use a scalar field $\\phi(x, y, t)$ where the interface is located at $\\phi = 0$. The level set method is used to evolve the interface:\n",
    "$$\n",
    "\\frac{\\partial \\phi}{\\partial t} + \\vec{v} \\cdot \\nabla \\phi = 0\n",
    "$$\n",
    "\n",
    "### 4. Density Field\n",
    "\n",
    "The density of each fluid is determined by the level set function:\n",
    "$$\n",
    "\\rho(x, y, t) = \\rho_{\\text{light}} + (\\rho_{\\text{heavy}} - \\rho_{\\text{light}}) H(\\phi(x, y, t))\n",
    "$$\n",
    "where $H(\\phi)$ is the Heaviside step function, which is -1 when $\\phi < 0$, 0 when $\\phi = 0$, and 1 when $\\phi > 0$.\n",
    "\n",
    "### 5. Vorticity Equation\n",
    "\n",
    "The vorticity $\\omega$ of the fluid flow, which represents the rotational component of the velocity field, is calculated by:\n",
    "$$\n",
    "\\frac{\\partial \\omega}{\\partial t} + \\vec{v} \\cdot \\nabla \\omega = \\nu \\nabla^2 \\omega + \\frac{g}{\\rho} \\frac{\\partial \\rho}{\\partial y}\n",
    "$$\n",
    "This equation governs the evolution of vorticity in the fluid.\n",
    "\n",
    "### 6. Velocity Recovery\n",
    "\n",
    "The velocity field $\\vec{v}$ is recovered from the vorticity $\\omega$ by solving the Poisson equation:\n",
    "$$\n",
    "\\nabla^2 \\psi = -\\omega\n",
    "$$\n",
    "Then, the velocity components are derived from the stream function $\\psi$:\n",
    "$$\n",
    "u = \\frac{\\partial \\psi}{\\partial y}, \\quad v = -\\frac{\\partial \\psi}{\\partial x}\n",
    "$$\n",
    "\n",
    "## Numerical Methods\n",
    "\n",
    "### 1. Grid Initialization\n",
    "\n",
    "We begin by creating a uniform 2D grid $(x, y)$, representing the simulation space. The density field $\\rho(x, y)$ is initialized with a smooth transition between the two fluids using a hyperbolic tangent function:\n",
    "$$\n",
    "\\rho(x, y, 0) = \\rho_{\\text{light}} + (\\rho_{\\text{heavy}} - \\rho_{\\text{light}}) \\frac{1}{2} \\left( 1 + \\tanh\\left( y - \\frac{y_{\\text{interface}}}{\\delta} \\right) \\right)\n",
    "$$\n",
    "\n",
    "### 2. Level Set Function Initialization\n",
    "\n",
    "The level set field $\\phi(x, y)$ is initialized to represent the interface:\n",
    "$$\n",
    "\\phi(x, y) = y - y_{\\text{interface}}\n",
    "$$\n",
    "where $y_{\\text{interface}}$ is the initial position of the fluid interface.\n",
    "\n",
    "### 3. Advection of the Level Set Function\n",
    "\n",
    "To update the position of the interface over time, the level set function $\\phi$ is evolved using the velocity field:\n",
    "$$\n",
    "\\phi^{n+1}_{i,j} = \\phi^{n}_{i,j} - \\Delta t \\left( u_{i,j} \\frac{\\partial \\phi}{\\partial x} + v_{i,j} \\frac{\\partial \\phi}{\\partial y} \\right)\n",
    "$$\n",
    "\n",
    "### 4. Reinitialization of the Level Set Function\n",
    "\n",
    "After each time step, we reinitialize the level set function to ensure it remains a signed distance function:\n",
    "$$\n",
    "\\frac{\\partial \\phi}{\\partial \\tau} = \\text{sign}(\\phi_0)(1 - |\\nabla \\phi|)\n",
    "$$\n",
    "This step maintains the stability and accuracy of the interface representation.\n",
    "\n",
    "### 5. Density Update\n",
    "\n",
    "The density field $\\rho$ is updated by applying the Heaviside function $H(\\phi)$, which maps regions above the interface to $\\rho_{\\text{light}}$ and regions below the interface to $\\rho_{\\text{heavy}}$.\n",
    "\n",
    "### 6. Vorticity Update\n",
    "\n",
    "The vorticity equation is solved to update the vorticity field $\\omega$, which describes the rotational motion of the fluid.\n",
    "\n",
    "### 7. Poisson Equation for Velocity Recovery\n",
    "\n",
    "The stream function $\\psi$ is computed by solving the Poisson equation:\n",
    "$$\n",
    "\\nabla^2 \\psi = -\\omega\n",
    "$$\n",
    "The velocity components $u$ and $v$ are then derived from $\\psi\\$.\n",
    "\n",
    "### 8. Visualization\n",
    "\n",
    "To visualize the simulation, we plot the zero-contour of the level set function $\\phi$, which marks the interface between the two fluids. "
   ]
  },
  {
   "cell_type": "code",
   "execution_count": 19,
   "id": "97fcb360-9634-43ce-8700-b1b9d36cba49",
   "metadata": {},
   "outputs": [],
   "source": [
    "# Code Goes Here"
   ]
  },
  {
   "cell_type": "code",
   "execution_count": 21,
   "id": "d3cb85f7-8c9b-4aea-b451-d86de716fe02",
   "metadata": {},
   "outputs": [],
   "source": [
    "# Figures and Animations"
   ]
  },
  {
   "cell_type": "markdown",
   "id": "18c27444-4489-464d-9257-bb60a5bca8be",
   "metadata": {},
   "source": [
    "`Discussing the results. Does it make sense? What do you learn?`"
   ]
  },
  {
   "cell_type": "markdown",
   "id": "4aa32369-1ccd-42fa-928f-9f6c96d46c87",
   "metadata": {},
   "source": [
    "References"
   ]
  },
  {
   "cell_type": "markdown",
   "id": "135af192-4e4b-4a9c-89f9-b1f42954a50f",
   "metadata": {},
   "source": [
    "Contribution of each team member"
   ]
  }
 ],
 "metadata": {
  "kernelspec": {
   "display_name": "Python 3 (ipykernel)",
   "language": "python",
   "name": "python3"
  },
  "language_info": {
   "codemirror_mode": {
    "name": "ipython",
    "version": 3
   },
   "file_extension": ".py",
   "mimetype": "text/x-python",
   "name": "python",
   "nbconvert_exporter": "python",
   "pygments_lexer": "ipython3",
   "version": "3.12.4"
  }
 },
 "nbformat": 4,
 "nbformat_minor": 5
}
